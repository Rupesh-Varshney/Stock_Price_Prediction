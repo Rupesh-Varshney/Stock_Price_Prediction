{
 "cells": [
  {
   "cell_type": "code",
   "execution_count": 1,
   "id": "6df04dab",
   "metadata": {},
   "outputs": [],
   "source": [
    "import numpy as np\n",
    "import pandas as pd\n",
    "import matplotlib.pyplot as plt\n",
    "from sklearn.preprocessing import MinMaxScaler\n",
    "from tensorflow.keras.models import Sequential\n",
    "from tensorflow.keras.layers import LSTM, Dense"
   ]
  },
  {
   "cell_type": "markdown",
   "id": "d4a9338d",
   "metadata": {},
   "source": [
    "# Loading stock Price data"
   ]
  },
  {
   "cell_type": "code",
   "execution_count": 2,
   "id": "fed36dec",
   "metadata": {},
   "outputs": [],
   "source": [
    "df = pd.read_csv('ADANIPORTS.csv')"
   ]
  },
  {
   "cell_type": "code",
   "execution_count": 3,
   "id": "b269900e",
   "metadata": {},
   "outputs": [
    {
     "data": {
      "text/html": [
       "<div>\n",
       "<style scoped>\n",
       "    .dataframe tbody tr th:only-of-type {\n",
       "        vertical-align: middle;\n",
       "    }\n",
       "\n",
       "    .dataframe tbody tr th {\n",
       "        vertical-align: top;\n",
       "    }\n",
       "\n",
       "    .dataframe thead th {\n",
       "        text-align: right;\n",
       "    }\n",
       "</style>\n",
       "<table border=\"1\" class=\"dataframe\">\n",
       "  <thead>\n",
       "    <tr style=\"text-align: right;\">\n",
       "      <th></th>\n",
       "      <th>Date</th>\n",
       "      <th>Symbol</th>\n",
       "      <th>Series</th>\n",
       "      <th>Prev Close</th>\n",
       "      <th>Open</th>\n",
       "      <th>High</th>\n",
       "      <th>Low</th>\n",
       "      <th>Last</th>\n",
       "      <th>Close</th>\n",
       "      <th>VWAP</th>\n",
       "      <th>Volume</th>\n",
       "      <th>Turnover</th>\n",
       "      <th>Trades</th>\n",
       "      <th>Deliverable Volume</th>\n",
       "      <th>%Deliverble</th>\n",
       "    </tr>\n",
       "  </thead>\n",
       "  <tbody>\n",
       "    <tr>\n",
       "      <th>0</th>\n",
       "      <td>2007-11-27</td>\n",
       "      <td>MUNDRAPORT</td>\n",
       "      <td>EQ</td>\n",
       "      <td>440.00</td>\n",
       "      <td>770.00</td>\n",
       "      <td>1050.00</td>\n",
       "      <td>770.0</td>\n",
       "      <td>959.0</td>\n",
       "      <td>962.90</td>\n",
       "      <td>984.72</td>\n",
       "      <td>27294366</td>\n",
       "      <td>2.687719e+15</td>\n",
       "      <td>NaN</td>\n",
       "      <td>9859619</td>\n",
       "      <td>0.3612</td>\n",
       "    </tr>\n",
       "    <tr>\n",
       "      <th>1</th>\n",
       "      <td>2007-11-28</td>\n",
       "      <td>MUNDRAPORT</td>\n",
       "      <td>EQ</td>\n",
       "      <td>962.90</td>\n",
       "      <td>984.00</td>\n",
       "      <td>990.00</td>\n",
       "      <td>874.0</td>\n",
       "      <td>885.0</td>\n",
       "      <td>893.90</td>\n",
       "      <td>941.38</td>\n",
       "      <td>4581338</td>\n",
       "      <td>4.312765e+14</td>\n",
       "      <td>NaN</td>\n",
       "      <td>1453278</td>\n",
       "      <td>0.3172</td>\n",
       "    </tr>\n",
       "    <tr>\n",
       "      <th>2</th>\n",
       "      <td>2007-11-29</td>\n",
       "      <td>MUNDRAPORT</td>\n",
       "      <td>EQ</td>\n",
       "      <td>893.90</td>\n",
       "      <td>909.00</td>\n",
       "      <td>914.75</td>\n",
       "      <td>841.0</td>\n",
       "      <td>887.0</td>\n",
       "      <td>884.20</td>\n",
       "      <td>888.09</td>\n",
       "      <td>5124121</td>\n",
       "      <td>4.550658e+14</td>\n",
       "      <td>NaN</td>\n",
       "      <td>1069678</td>\n",
       "      <td>0.2088</td>\n",
       "    </tr>\n",
       "    <tr>\n",
       "      <th>3</th>\n",
       "      <td>2007-11-30</td>\n",
       "      <td>MUNDRAPORT</td>\n",
       "      <td>EQ</td>\n",
       "      <td>884.20</td>\n",
       "      <td>890.00</td>\n",
       "      <td>958.00</td>\n",
       "      <td>890.0</td>\n",
       "      <td>929.0</td>\n",
       "      <td>921.55</td>\n",
       "      <td>929.17</td>\n",
       "      <td>4609762</td>\n",
       "      <td>4.283257e+14</td>\n",
       "      <td>NaN</td>\n",
       "      <td>1260913</td>\n",
       "      <td>0.2735</td>\n",
       "    </tr>\n",
       "    <tr>\n",
       "      <th>4</th>\n",
       "      <td>2007-12-03</td>\n",
       "      <td>MUNDRAPORT</td>\n",
       "      <td>EQ</td>\n",
       "      <td>921.55</td>\n",
       "      <td>939.75</td>\n",
       "      <td>995.00</td>\n",
       "      <td>922.0</td>\n",
       "      <td>980.0</td>\n",
       "      <td>969.30</td>\n",
       "      <td>965.65</td>\n",
       "      <td>2977470</td>\n",
       "      <td>2.875200e+14</td>\n",
       "      <td>NaN</td>\n",
       "      <td>816123</td>\n",
       "      <td>0.2741</td>\n",
       "    </tr>\n",
       "  </tbody>\n",
       "</table>\n",
       "</div>"
      ],
      "text/plain": [
       "         Date      Symbol Series  Prev Close    Open     High    Low   Last  \\\n",
       "0  2007-11-27  MUNDRAPORT     EQ      440.00  770.00  1050.00  770.0  959.0   \n",
       "1  2007-11-28  MUNDRAPORT     EQ      962.90  984.00   990.00  874.0  885.0   \n",
       "2  2007-11-29  MUNDRAPORT     EQ      893.90  909.00   914.75  841.0  887.0   \n",
       "3  2007-11-30  MUNDRAPORT     EQ      884.20  890.00   958.00  890.0  929.0   \n",
       "4  2007-12-03  MUNDRAPORT     EQ      921.55  939.75   995.00  922.0  980.0   \n",
       "\n",
       "    Close    VWAP    Volume      Turnover  Trades  Deliverable Volume  \\\n",
       "0  962.90  984.72  27294366  2.687719e+15     NaN             9859619   \n",
       "1  893.90  941.38   4581338  4.312765e+14     NaN             1453278   \n",
       "2  884.20  888.09   5124121  4.550658e+14     NaN             1069678   \n",
       "3  921.55  929.17   4609762  4.283257e+14     NaN             1260913   \n",
       "4  969.30  965.65   2977470  2.875200e+14     NaN              816123   \n",
       "\n",
       "   %Deliverble  \n",
       "0       0.3612  \n",
       "1       0.3172  \n",
       "2       0.2088  \n",
       "3       0.2735  \n",
       "4       0.2741  "
      ]
     },
     "execution_count": 3,
     "metadata": {},
     "output_type": "execute_result"
    }
   ],
   "source": [
    "df.head()"
   ]
  },
  {
   "cell_type": "markdown",
   "id": "10d0f0e4",
   "metadata": {},
   "source": [
    "# Preparing the Data"
   ]
  },
  {
   "cell_type": "code",
   "execution_count": 4,
   "id": "fa5b2d14",
   "metadata": {},
   "outputs": [],
   "source": [
    "close_prices = df['Close'].values.reshape(-1, 1)\n",
    "scaler = MinMaxScaler(feature_range=(0, 1))\n",
    "scaled_prices = scaler.fit_transform(close_prices)"
   ]
  },
  {
   "cell_type": "markdown",
   "id": "862fdfd1",
   "metadata": {},
   "source": [
    "# Spliting data into training and testing sets"
   ]
  },
  {
   "cell_type": "code",
   "execution_count": 5,
   "id": "d64ab4cc",
   "metadata": {},
   "outputs": [],
   "source": [
    "train_size = int(len(scaled_prices) * 0.8)\n",
    "train_data = scaled_prices[:train_size]\n",
    "test_data = scaled_prices[train_size:]"
   ]
  },
  {
   "cell_type": "markdown",
   "id": "79e5244b",
   "metadata": {},
   "source": [
    "# Function to create LSTM dataset"
   ]
  },
  {
   "cell_type": "code",
   "execution_count": 6,
   "id": "7b270b23",
   "metadata": {},
   "outputs": [],
   "source": [
    "def create_lstm_dataset(dataset, time_steps=1):\n",
    "    X, y = [], []\n",
    "    for i in range(len(dataset) - time_steps):\n",
    "        X.append(dataset[i:i + time_steps, 0])\n",
    "        y.append(dataset[i + time_steps, 0])\n",
    "    return np.array(X), np.array(y)"
   ]
  },
  {
   "cell_type": "markdown",
   "id": "ca025ac7",
   "metadata": {},
   "source": [
    "# Time steps for the LSTM"
   ]
  },
  {
   "cell_type": "code",
   "execution_count": 7,
   "id": "e3c9603f",
   "metadata": {},
   "outputs": [],
   "source": [
    "time_steps = 60"
   ]
  },
  {
   "cell_type": "markdown",
   "id": "dc5d1239",
   "metadata": {},
   "source": [
    "# Creating dataset"
   ]
  },
  {
   "cell_type": "code",
   "execution_count": 8,
   "id": "9b61c0ad",
   "metadata": {},
   "outputs": [],
   "source": [
    "X_train, y_train = create_lstm_dataset(train_data, time_steps)\n",
    "X_test, y_test = create_lstm_dataset(test_data, time_steps)"
   ]
  },
  {
   "cell_type": "markdown",
   "id": "996d86e2",
   "metadata": {},
   "source": [
    "# Reshaping the data for input"
   ]
  },
  {
   "cell_type": "code",
   "execution_count": 9,
   "id": "f833cc4e",
   "metadata": {},
   "outputs": [],
   "source": [
    "X_train = np.reshape(X_train, (X_train.shape[0], X_train.shape[1], 1))\n",
    "X_test = np.reshape(X_test, (X_test.shape[0], X_test.shape[1], 1))"
   ]
  },
  {
   "cell_type": "markdown",
   "id": "50d75416",
   "metadata": {},
   "source": [
    "# Build the LSTM model "
   ]
  },
  {
   "cell_type": "code",
   "execution_count": 10,
   "id": "a05840f9",
   "metadata": {},
   "outputs": [],
   "source": [
    "model = Sequential()\n",
    "model.add(LSTM(units=50, return_sequences=True, input_shape=(X_train.shape[1], 1)))\n",
    "model.add(LSTM(units=50))\n",
    "model.add(Dense(units=1))"
   ]
  },
  {
   "cell_type": "markdown",
   "id": "c08478af",
   "metadata": {},
   "source": [
    "# Compile"
   ]
  },
  {
   "cell_type": "code",
   "execution_count": 11,
   "id": "d160c8c9",
   "metadata": {},
   "outputs": [],
   "source": [
    "model.compile(optimizer='adam', loss='mean_squared_error')"
   ]
  },
  {
   "cell_type": "markdown",
   "id": "e98d1afa",
   "metadata": {},
   "source": [
    "# Train"
   ]
  },
  {
   "cell_type": "code",
   "execution_count": 12,
   "id": "a74d7f46",
   "metadata": {},
   "outputs": [
    {
     "name": "stdout",
     "output_type": "stream",
     "text": [
      "Epoch 1/10\n",
      "76/76 [==============================] - 16s 92ms/step - loss: 0.0041\n",
      "Epoch 2/10\n",
      "76/76 [==============================] - 7s 93ms/step - loss: 0.0010\n",
      "Epoch 3/10\n",
      "76/76 [==============================] - 7s 93ms/step - loss: 8.0813e-04\n",
      "Epoch 4/10\n",
      "76/76 [==============================] - 7s 92ms/step - loss: 7.3469e-04\n",
      "Epoch 5/10\n",
      "76/76 [==============================] - 7s 93ms/step - loss: 7.1752e-04\n",
      "Epoch 6/10\n",
      "76/76 [==============================] - 7s 93ms/step - loss: 6.3626e-04\n",
      "Epoch 7/10\n",
      "76/76 [==============================] - 7s 93ms/step - loss: 6.0764e-04\n",
      "Epoch 8/10\n",
      "76/76 [==============================] - 7s 92ms/step - loss: 5.2431e-04\n",
      "Epoch 9/10\n",
      "76/76 [==============================] - 7s 93ms/step - loss: 4.9333e-04\n",
      "Epoch 10/10\n",
      "76/76 [==============================] - 7s 92ms/step - loss: 4.5798e-04\n"
     ]
    },
    {
     "data": {
      "text/plain": [
       "<keras.src.callbacks.History at 0x222f753ef10>"
      ]
     },
     "execution_count": 12,
     "metadata": {},
     "output_type": "execute_result"
    }
   ],
   "source": [
    "model.fit(X_train, y_train, epochs=10, batch_size=32)"
   ]
  },
  {
   "cell_type": "markdown",
   "id": "2b6eecdf",
   "metadata": {},
   "source": [
    "# Making Predictions"
   ]
  },
  {
   "cell_type": "code",
   "execution_count": 13,
   "id": "028b545d",
   "metadata": {},
   "outputs": [
    {
     "name": "stdout",
     "output_type": "stream",
     "text": [
      "76/76 [==============================] - 4s 34ms/step\n",
      "18/18 [==============================] - 1s 32ms/step\n"
     ]
    }
   ],
   "source": [
    "train_predictions = model.predict(X_train)\n",
    "test_predictions = model.predict(X_test)"
   ]
  },
  {
   "cell_type": "code",
   "execution_count": 14,
   "id": "f37e491e",
   "metadata": {},
   "outputs": [],
   "source": [
    "train_predictions = scaler.inverse_transform(train_predictions)\n",
    "test_predictions = scaler.inverse_transform(test_predictions)"
   ]
  },
  {
   "cell_type": "markdown",
   "id": "af03ab67",
   "metadata": {},
   "source": [
    "# Ploting actual and predicted price"
   ]
  },
  {
   "cell_type": "code",
   "execution_count": 15,
   "id": "55bca9c5",
   "metadata": {},
   "outputs": [
    {
     "data": {
      "image/png": "[encoded data removed]",
      "text/plain": [
       "<Figure size 1200x600 with 1 Axes>"
      ]
     },
     "metadata": {},
     "output_type": "display_data"
    }
   ],
   "source": [
    "plt.figure(figsize=(12, 6))\n",
    "plt.plot(close_prices, color='blue', label='Actual Price')\n",
    "plt.plot([None]*train_size + [x[0] for x in train_predictions], color='green', label='Train Predictions')\n",
    "plt.plot([None]*len(train_predictions) + [x[0] for x in test_predictions], color='red', label='Test Predictions')\n",
    "plt.legend()\n",
    "plt.show()"
   ]
  },
  {
   "cell_type": "code",
   "execution_count": null,
   "id": "047d016c",
   "metadata": {},
   "outputs": [],
   "source": []
  }
 ],
 "metadata": {
  "kernelspec": {
   "display_name": "Python 3 (ipykernel)",
   "language": "python",
   "name": "python3"
  },
  "language_info": {
   "codemirror_mode": {
    "name": "ipython",
    "version": 3
   },
   "file_extension": ".py",
   "mimetype": "text/x-python",
   "name": "python",
   "nbconvert_exporter": "python",
   "pygments_lexer": "ipython3",
   "version": "3.11.4"
  }
 },
 "nbformat": 4,
 "nbformat_minor": 5
}
